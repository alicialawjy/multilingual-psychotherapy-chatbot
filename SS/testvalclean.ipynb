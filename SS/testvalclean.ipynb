{
 "cells": [
  {
   "cell_type": "code",
   "execution_count": 1,
   "metadata": {},
   "outputs": [],
   "source": [
    "import pandas as pd \n",
    "from sklearn.model_selection import train_test_split\n",
    "\n",
    "test = pd.read_csv('data/emotions/EmpatheticPersonas/EN/emotionlabeled_test.csv')\n",
    "val = pd.read_csv('data/emotions/EmpatheticPersonas/EN/emotionlabeled_val.csv')\n",
    "\n",
    "pd_concat = pd.concat([test,val])"
   ]
  },
  {
   "cell_type": "code",
   "execution_count": 5,
   "metadata": {},
   "outputs": [
    {
     "name": "stdout",
     "output_type": "stream",
     "text": [
      "1    25.877193\n",
      "3    25.000000\n",
      "0    25.000000\n",
      "2    24.122807\n",
      "Name: labels, dtype: float64\n"
     ]
    }
   ],
   "source": [
    "print(pd_concat['labels'].value_counts(normalize=True)*100)\n",
    "\n",
    "val, test = train_test_split(pd_concat, test_size=0.5, shuffle=True, random_state=0, stratify=pd_concat['labels'])\n"
   ]
  },
  {
   "cell_type": "code",
   "execution_count": 6,
   "metadata": {},
   "outputs": [],
   "source": [
    "val.to_csv('data/emotions/EmpatheticPersonas/EN/emotionlabeled_val.csv')\n",
    "test.to_csv('data/emotions/EmpatheticPersonas/EN/emotionlabeled_test.csv')"
   ]
  },
  {
   "cell_type": "code",
   "execution_count": 7,
   "metadata": {},
   "outputs": [],
   "source": [
    "df_ZH_native = pd.read_csv('data/emotions/Native Dataset/roy_native.csv')\n",
    "\n",
    "# Map labels to correspond to ours\n",
    "int2label = {\n",
    "  0: 'sad',\n",
    "  1: 'anger',\n",
    "  2: 'fear',\n",
    "  3: 'happy',\n",
    "}\n",
    "\n",
    "df_ZH_native[\"labels\"].replace(int2label,inplace=True)"
   ]
  },
  {
   "cell_type": "code",
   "execution_count": 8,
   "metadata": {},
   "outputs": [
    {
     "name": "stdout",
     "output_type": "stream",
     "text": [
      "0    30\n",
      "1    30\n",
      "3    30\n",
      "2    30\n",
      "Name: labels, dtype: int64\n"
     ]
    }
   ],
   "source": [
    "# Map labels to correspond to ours numerically\n",
    "int2label = {\n",
    "  'sad':0,\n",
    "  'anger':1,\n",
    "  'happy':2,\n",
    "  'fear':3,\n",
    "}\n",
    "\n",
    "df_ZH_native[\"labels\"].replace(int2label,inplace=True)\n",
    "\n",
    "print(df_ZH_native['labels'].value_counts()) \n",
    "\n"
   ]
  },
  {
   "cell_type": "code",
   "execution_count": null,
   "metadata": {},
   "outputs": [],
   "source": [
    "df_ZH_native.to_csv('data/emotions/Native Dataset/roy_native.csv')"
   ]
  }
 ],
 "metadata": {
  "interpreter": {
   "hash": "6affe5b8c4f287722cc202c497c24ade3dd225e8a3881670ad8782202279ca81"
  },
  "kernelspec": {
   "display_name": "Python 3.7.2 ('satbot': venv)",
   "language": "python",
   "name": "python3"
  },
  "language_info": {
   "codemirror_mode": {
    "name": "ipython",
    "version": 3
   },
   "file_extension": ".py",
   "mimetype": "text/x-python",
   "name": "python",
   "nbconvert_exporter": "python",
   "pygments_lexer": "ipython3",
   "version": "3.7.2"
  },
  "orig_nbformat": 4
 },
 "nbformat": 4,
 "nbformat_minor": 2
}
