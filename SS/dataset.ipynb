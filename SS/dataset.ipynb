{
 "cells": [
  {
   "cell_type": "code",
   "execution_count": 2,
   "metadata": {},
   "outputs": [],
   "source": [
    "import pandas as pd\n",
    "\n",
    "semantic_labels = pd.read_csv('data/empathy/semantic_labelled.csv', index_col=0)\n",
    "trl_train = pd.read_csv('data/empathy/trl_train.csv', index_col=0)\n",
    "trl_rewritings_labelled = pd.merge(semantic_labels, trl_train, how ='inner', left_on='text', right_on='base')\n"
   ]
  },
  {
   "cell_type": "code",
   "execution_count": 7,
   "metadata": {},
   "outputs": [],
   "source": [
    "base_utterances = pd.read_csv('data/empathy/base_utt.csv', index_col=0)\n",
    "\n",
    "def semantic_label(base_utterance_list):\n",
    "    label = 0 \n",
    "    label_list = []\n",
    "    for idx in range(len(base_utterance_list)):\n",
    "        if base_utterance_list[idx] in ['Was this caused by a specific event/s?', '这是由特别事件引起的吗？']:\n",
    "            label = 0\n",
    "\n",
    "        elif base_utterance_list[idx] != base_utterance_list[idx-1]:\n",
    "            label += 1\n",
    "        \n",
    "        if label == 20: # categorise the \"Would you like to attempt another protocol?\" as the same label regardless if they feel better or worse\n",
    "            label = 19\n",
    "\n",
    "        label_list.append(label)\n",
    "    \n",
    "    return label_list\n",
    "\n",
    "base_semantic_labels = semantic_label(base_utterances['base'].tolist())\n",
    "base_utterances['semantic'] = base_semantic_labels\n",
    "\n",
    "base_utterances.to_csv('base_utt_semantic_labelled.csv')"
   ]
  },
  {
   "cell_type": "code",
   "execution_count": 26,
   "metadata": {},
   "outputs": [],
   "source": [
    "trl_base_labelled = pd.merge(base_semantic, trl_train, how ='inner', left_on='text', right_on='base')\n",
    "trl_base_labelled = trl_base_labelled.drop_duplicates(keep='first')"
   ]
  },
  {
   "cell_type": "code",
   "execution_count": 30,
   "metadata": {},
   "outputs": [],
   "source": [
    "trl_train_labelled = pd.concat([trl_base_labelled, trl_rewritings_labelled], ignore_index=True)\n",
    "trl_train_labelled = trl_train_labelled.drop_duplicates(keep='first')\n",
    "trl_train_labelled = trl_train_labelled.drop(columns=['text'])\n",
    "\n",
    "trl_train_labelled.to_csv('data/empathy/trl_train_semantic_labelled.csv')"
   ]
  },
  {
   "cell_type": "code",
   "execution_count": 3,
   "metadata": {},
   "outputs": [],
   "source": [
    "import pandas as pd\n",
    "\n",
    "semantic_labels = pd.read_csv('data/empathy/semantic_labelled.csv', index_col=0)\n",
    "supervised_train = pd.read_csv('data/empathy/EP_empathy_2144_ZH.csv', index_col=0)\n",
    "supervised_labelled = pd.merge(semantic_labels, supervised_train, how ='inner', left_on='text', right_on='rewriting')\n",
    "supervised_labelled = supervised_labelled.rename(columns={'labels':'semantic'})\n",
    "\n",
    "supervised_labelled.to_csv('data/empathy/train_semantic_labelled_2144.csv')"
   ]
  }
 ],
 "metadata": {
  "kernelspec": {
   "display_name": "Python 3.7.2 ('satbot': venv)",
   "language": "python",
   "name": "python3"
  },
  "language_info": {
   "codemirror_mode": {
    "name": "ipython",
    "version": 3
   },
   "file_extension": ".py",
   "mimetype": "text/x-python",
   "name": "python",
   "nbconvert_exporter": "python",
   "pygments_lexer": "ipython3",
   "version": "3.7.2"
  },
  "orig_nbformat": 4,
  "vscode": {
   "interpreter": {
    "hash": "6affe5b8c4f287722cc202c497c24ade3dd225e8a3881670ad8782202279ca81"
   }
  }
 },
 "nbformat": 4,
 "nbformat_minor": 2
}
