{
 "cells": [
  {
   "cell_type": "markdown",
   "metadata": {},
   "source": [
    "# Emotion Dataset"
   ]
  },
  {
   "cell_type": "code",
   "execution_count": null,
   "metadata": {},
   "outputs": [],
   "source": [
    "!pip3 install google_trans_new\n",
    "!mkdir -p 'drive/MyDrive/translate'"
   ]
  },
  {
   "cell_type": "code",
   "execution_count": 2,
   "metadata": {},
   "outputs": [],
   "source": [
    "import pickle\n",
    "import google_trans_new\n",
    "import pandas as pd\n",
    "import math\n",
    "import numpy as np\n",
    "\n",
    "from sklearn.model_selection import train_test_split\n",
    "from google_trans_new import google_translator"
   ]
  },
  {
   "cell_type": "markdown",
   "metadata": {},
   "source": [
    "## Part One: Clean data\n",
    "### Load the pickle file and remove extraneous emotions"
   ]
  },
  {
   "cell_type": "code",
   "execution_count": 2,
   "metadata": {},
   "outputs": [],
   "source": [
    "# External Twitter Dataset\n",
    "with open('merged_training.pkl', 'rb') as f:\n",
    "    data = pickle.load(f)\n",
    "\n",
    "# Remove surprise and love (extra emotions)\n",
    "data = data.loc[(data.emotions!='surprise') & (data.emotions!='love')]"
   ]
  },
  {
   "cell_type": "markdown",
   "metadata": {},
   "source": [
    "### Balance the dataset"
   ]
  },
  {
   "cell_type": "code",
   "execution_count": 24,
   "metadata": {},
   "outputs": [],
   "source": [
    "# Assess the dataset\n",
    "len(data)\n",
    "data.emotions.value_counts() # minority emotion is 'fear'\n",
    "min_len = data.emotions.value_counts().fear # fear count\n",
    "\n",
    "# Balance the dataset\n",
    "df_balanced = pd.DataFrame()\n",
    "emotions = ['sadness','anger','joy','fear']\n",
    "for emotion in emotions:\n",
    "    df = data[data['emotions']==emotion]\n",
    "    df = df.sample(min_len, random_state=0)\n",
    "    df_balanced = pd.concat([df_balanced, df])\n",
    "\n",
    "df_balanced = df_balanced.rename(columns={'emotions':'labels'})\n"
   ]
  },
  {
   "cell_type": "markdown",
   "metadata": {},
   "source": [
    "### Map labels to numeric form"
   ]
  },
  {
   "cell_type": "code",
   "execution_count": 25,
   "metadata": {},
   "outputs": [],
   "source": [
    "# Map labels to numeric \n",
    "label2int = {\n",
    "  \"sadness\": int(0),\n",
    "  \"joy\": int(2),\n",
    "  \"anger\": int(1),\n",
    "  \"fear\": int(3),\n",
    "}\n",
    "\n",
    "df_balanced[\"labels\"].replace(label2int,inplace=True)\n"
   ]
  },
  {
   "cell_type": "markdown",
   "metadata": {},
   "source": [
    "### Train-Test Split"
   ]
  },
  {
   "cell_type": "code",
   "execution_count": 26,
   "metadata": {},
   "outputs": [
    {
     "name": "stdout",
     "output_type": "stream",
     "text": [
      "2    25.000327\n",
      "3    25.000327\n",
      "1    24.999673\n",
      "0    24.999673\n",
      "Name: labels, dtype: float64\n",
      "1    25.00131\n",
      "0    25.00131\n",
      "2    24.99869\n",
      "3    24.99869\n",
      "Name: labels, dtype: float64\n"
     ]
    }
   ],
   "source": [
    "# Train Test Split\n",
    "df_train, df_test = train_test_split(df_balanced, test_size=0.2, shuffle=True, random_state=0, stratify=df_balanced['labels'])\n",
    "\n",
    "# Check distribution: approx equal\n",
    "print(df_train['labels'].value_counts(normalize=True)*100)\n",
    "print(df_test['labels'].value_counts(normalize=True)*100)"
   ]
  },
  {
   "cell_type": "markdown",
   "metadata": {},
   "source": [
    "### Export"
   ]
  },
  {
   "cell_type": "code",
   "execution_count": 27,
   "metadata": {},
   "outputs": [],
   "source": [
    "# Export To CSV\n",
    "df_balanced = df_balanced.sample(frac=1).reset_index(drop=True) # shuffle the dataset\n",
    "df_balanced.to_csv('twitter_full.csv')\n",
    "df_train.to_csv('twitter_train.csv', index=False)\n",
    "df_test.to_csv('twitter_test.csv', index=False)\n"
   ]
  },
  {
   "cell_type": "markdown",
   "metadata": {},
   "source": [
    "## Part Two: Translate Dataset into Mandarin - Google Cloud Translation API"
   ]
  },
  {
   "cell_type": "code",
   "execution_count": 35,
   "metadata": {},
   "outputs": [
    {
     "name": "stdout",
     "output_type": "stream",
     "text": [
      "1    25.04\n",
      "0    25.00\n",
      "2    24.99\n",
      "3    24.97\n",
      "Name: labels, dtype: float64\n"
     ]
    }
   ],
   "source": [
    "# translate only ~10000 datasets\n",
    "# extract a balanced set using train-test-split\n",
    "_, df_extract = train_test_split(df_balanced, test_size=0.053, shuffle=True, random_state=0, stratify=df_balanced['labels'])\n",
    "\n",
    "# Check distribution: approx equal\n",
    "print(df_extract['labels'].head(10000).value_counts(normalize=True)*100)\n",
    "\n",
    "# export to csv\n",
    "df_extract.to_csv('twitter_extracted.csv', index=False)"
   ]
  },
  {
   "cell_type": "code",
   "execution_count": 37,
   "metadata": {},
   "outputs": [
    {
     "name": "stdout",
     "output_type": "stream",
     "text": [
      "translated rows 9000 to 9500\n",
      "translated rows 9500 to 10000\n"
     ]
    }
   ],
   "source": [
    "translator = google_translator()\n",
    "\n",
    "df = pd.read_csv('twitter_extracted.csv')\n",
    "text_en = df['text']\n",
    "text_translated = np.array([])\n",
    "\n",
    "# Need to run in batches and sessions due to API Limits\n",
    "for i in range(9000,10000,500):\n",
    "    translations = np.array([translator.translate(text=text, lang_tgt='zh-cn') for text in text_en[i:i+500]])\n",
    "    print(f\"translated rows {i} to {i+500}\")\n",
    "    text_translated = np.append(text_translated,translations)\n",
    "\n"
   ]
  },
  {
   "cell_type": "code",
   "execution_count": 38,
   "metadata": {},
   "outputs": [
    {
     "name": "stdout",
     "output_type": "stream",
     "text": [
      "1000\n"
     ]
    }
   ],
   "source": [
    "# check length is correct\n",
    "print(len(text_translated))"
   ]
  },
  {
   "cell_type": "code",
   "execution_count": 40,
   "metadata": {},
   "outputs": [],
   "source": [
    "# export chunk to csv\n",
    "df_zh = pd.DataFrame()\n",
    "df_zh['text']=text_translated\n",
    "df_zh['labels']=df['labels'].iloc[9000:10000]\n",
    "\n",
    "df_zh.to_csv('twitter_emotions_zh10k.csv')"
   ]
  },
  {
   "cell_type": "code",
   "execution_count": 3,
   "metadata": {},
   "outputs": [],
   "source": [
    "# combine all datasets\n",
    "df_zh3k = pd.read_csv('twitter_emotions_zh3000.csv')\n",
    "df_zh6k = pd.read_csv('twitter_emotions_zh6000.csv')\n",
    "df_zh9k = pd.read_csv('twitter_emotions_zh9000.csv')\n",
    "df_zh10k = pd.read_csv('twitter_emotions_zh10k.csv')\n",
    "df_en = pd.read_csv('twitter_extracted.csv').head(10000)\n",
    "\n",
    "# concatenate\n",
    "df_concat = pd.concat([df_zh3k,df_zh6k,df_zh9k,df_zh10k,df_en])\n",
    "df_concat = df_concat.sample(frac=1) # shuffle the dataset\n",
    "\n",
    "df_concat.to_csv('twitter_emotions_enzh.csv')"
   ]
  },
  {
   "cell_type": "code",
   "execution_count": 4,
   "metadata": {},
   "outputs": [
    {
     "name": "stdout",
     "output_type": "stream",
     "text": [
      "1    25.04\n",
      "0    25.00\n",
      "2    24.99\n",
      "3    24.97\n",
      "Name: labels, dtype: float64\n"
     ]
    }
   ],
   "source": [
    "# Check distribution: approx equal\n",
    "print(df_concat['labels'].value_counts(normalize=True)*100)\n"
   ]
  }
 ],
 "metadata": {
  "interpreter": {
   "hash": "6affe5b8c4f287722cc202c497c24ade3dd225e8a3881670ad8782202279ca81"
  },
  "kernelspec": {
   "display_name": "Python 3.7.2 ('satbot': venv)",
   "language": "python",
   "name": "python3"
  },
  "language_info": {
   "codemirror_mode": {
    "name": "ipython",
    "version": 3
   },
   "file_extension": ".py",
   "mimetype": "text/x-python",
   "name": "python",
   "nbconvert_exporter": "python",
   "pygments_lexer": "ipython3",
   "version": "3.7.2"
  },
  "orig_nbformat": 4
 },
 "nbformat": 4,
 "nbformat_minor": 2
}
