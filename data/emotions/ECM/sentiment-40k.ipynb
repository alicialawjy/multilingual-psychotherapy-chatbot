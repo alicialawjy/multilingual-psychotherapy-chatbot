{
 "cells": [
  {
   "cell_type": "code",
   "execution_count": 2,
   "metadata": {},
   "outputs": [],
   "source": [
    "import pandas as pd\n",
    "from sklearn.model_selection import train_test_split"
   ]
  },
  {
   "cell_type": "code",
   "execution_count": 7,
   "metadata": {},
   "outputs": [
    {
     "name": "stdout",
     "output_type": "stream",
     "text": [
      "0    13993\n",
      "2     5348\n",
      "5     4950\n",
      "4     3167\n",
      "Name: labels, dtype: int64\n"
     ]
    }
   ],
   "source": [
    "df= pd.read_csv('sentiment-40k.csv', index_col=0)\n",
    "df= df.loc[(df.labels!=1) & (df.labels!=3)]\n",
    "\n",
    "print(df['labels'].value_counts()) "
   ]
  },
  {
   "cell_type": "code",
   "execution_count": 8,
   "metadata": {},
   "outputs": [
    {
     "name": "stdout",
     "output_type": "stream",
     "text": [
      "3    13993\n",
      "0     5348\n",
      "2     4950\n",
      "1     3167\n",
      "Name: labels, dtype: int64\n"
     ]
    }
   ],
   "source": [
    "# relabel and balance\n",
    "min_len = min(df['labels'].value_counts()) # anger\n",
    "\n",
    "# Map labels to correspond to ours\n",
    "int2label = {\n",
    "  2: 'sad',\n",
    "  4: 'anger',\n",
    "  5: 'joy',\n",
    "  0: 'non',\n",
    "}\n",
    "\n",
    "df[\"labels\"].replace(int2label,inplace=True)\n",
    "\n",
    "# Map labels to correspond to ours numerically\n",
    "int2label = {\n",
    "  'sad':0,\n",
    "  'anger':1,\n",
    "  'joy':2,\n",
    "  'non':3,\n",
    "}\n",
    "\n",
    "df[\"labels\"].replace(int2label,inplace=True)\n",
    "\n",
    "print(df['labels'].value_counts()) "
   ]
  },
  {
   "cell_type": "code",
   "execution_count": 9,
   "metadata": {},
   "outputs": [
    {
     "name": "stdout",
     "output_type": "stream",
     "text": [
      "0    3167\n",
      "1    3167\n",
      "2    3167\n",
      "3    3167\n",
      "Name: labels, dtype: int64\n"
     ]
    }
   ],
   "source": [
    "# balance the dataset\n",
    "min_len = min(df['labels'].value_counts())\n",
    "\n",
    "df_balanced = pd.DataFrame()\n",
    "for label in range(0,4):\n",
    "    df_emotion = df[df['labels']==label]\n",
    "    df_emotion = df_emotion.sample(min_len, random_state=0)\n",
    "    df_balanced = pd.concat([df_balanced, df_emotion])\n",
    "\n",
    "# check\n",
    "print(df_balanced['labels'].value_counts())"
   ]
  },
  {
   "cell_type": "code",
   "execution_count": 10,
   "metadata": {},
   "outputs": [
    {
     "name": "stdout",
     "output_type": "stream",
     "text": [
      "2    2534\n",
      "3    2534\n",
      "1    2533\n",
      "0    2533\n",
      "Name: labels, dtype: int64\n",
      "1    634\n",
      "0    634\n",
      "3    633\n",
      "2    633\n",
      "Name: labels, dtype: int64\n"
     ]
    }
   ],
   "source": [
    "df_train, df_test = train_test_split(df_balanced, test_size=0.2, shuffle=True, random_state=0, stratify=df_balanced['labels'])\n",
    "\n",
    "# check\n",
    "print(df_train['labels'].value_counts())\n",
    "print(df_test['labels'].value_counts())"
   ]
  },
  {
   "cell_type": "code",
   "execution_count": 11,
   "metadata": {},
   "outputs": [],
   "source": [
    "df_train.to_csv('sentiment-40k_train.csv')\n",
    "df_test.to_csv('sentiment-40k_test.csv')"
   ]
  }
 ],
 "metadata": {
  "interpreter": {
   "hash": "6affe5b8c4f287722cc202c497c24ade3dd225e8a3881670ad8782202279ca81"
  },
  "kernelspec": {
   "display_name": "Python 3.7.2 ('satbot': venv)",
   "language": "python",
   "name": "python3"
  },
  "language_info": {
   "codemirror_mode": {
    "name": "ipython",
    "version": 3
   },
   "file_extension": ".py",
   "mimetype": "text/x-python",
   "name": "python",
   "nbconvert_exporter": "python",
   "pygments_lexer": "ipython3",
   "version": "3.7.2"
  },
  "orig_nbformat": 4
 },
 "nbformat": 4,
 "nbformat_minor": 2
}
