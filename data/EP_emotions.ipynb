{
 "cells": [
  {
   "cell_type": "code",
   "execution_count": 2,
   "metadata": {},
   "outputs": [],
   "source": [
    "import pandas as pd\n",
    "import numpy as np\n",
    "from sklearn.model_selection import train_test_split"
   ]
  },
  {
   "cell_type": "code",
   "execution_count": null,
   "metadata": {},
   "outputs": [],
   "source": [
    "# choose language\n",
    "lang = 'EN' # 'ZH' or 'EN'\n",
    "\n",
    "# import EmpatheticPersonas dataset\n",
    "df = pd.read_csv('empatheticPersonas' + lang + '.csv', index_col=0)\n",
    "df.head()"
   ]
  },
  {
   "cell_type": "code",
   "execution_count": 16,
   "metadata": {},
   "outputs": [],
   "source": [
    "# text  - extracts the 1181 expressions of emotions \n",
    "# label - emotion corresponding to text extract\n",
    "if lang == 'ZH':\n",
    "    emotions = ['悲伤', '愤怒', '快乐', '焦虑']\n",
    "elif lang == 'EN':\n",
    "    emotions = ['Sad', 'Angry', 'Happy', 'Anxious']\n",
    "\n",
    "text = []\n",
    "label = []\n",
    "start_index = 0\n",
    "label_encoding = 0\n",
    "for emotion in emotions:\n",
    "    for col in range(1,4):\n",
    "        if lang == 'ZH':\n",
    "            colname = emotion +' - 患者反应 ' + str(col)\n",
    "        elif lang == 'EN':\n",
    "            colname = emotion +' - Patient response ' + str(col)\n",
    "        \n",
    "        text += df[colname].dropna().values.tolist()\n",
    "    end_index = len(text)\n",
    "    # Label Encoding: 0 - 'Sad', 1- 'Angry', 2- 'Happy', 3 -'Anxious'\n",
    "    label += [label_encoding]*(end_index - start_index)\n",
    "    start_index = end_index\n",
    "    label_encoding+=1\n",
    "\n",
    "# print(text, label)"
   ]
  },
  {
   "cell_type": "code",
   "execution_count": 17,
   "metadata": {},
   "outputs": [
    {
     "name": "stdout",
     "output_type": "stream",
     "text": [
      "1181\n",
      "1181\n"
     ]
    }
   ],
   "source": [
    "# sanity check - check text and label same length\n",
    "print(len(text))\n",
    "print(len(label))"
   ]
  },
  {
   "cell_type": "code",
   "execution_count": 18,
   "metadata": {},
   "outputs": [],
   "source": [
    "# create the organised df\n",
    "df = pd.DataFrame()\n",
    "df['text']=text\n",
    "df['labels']=label"
   ]
  },
  {
   "cell_type": "code",
   "execution_count": 19,
   "metadata": {},
   "outputs": [
    {
     "data": {
      "text/plain": [
       "0    300\n",
       "2    300\n",
       "1    297\n",
       "3    284\n",
       "Name: labels, dtype: int64"
      ]
     },
     "execution_count": 19,
     "metadata": {},
     "output_type": "execute_result"
    }
   ],
   "source": [
    "df['labels'].value_counts()"
   ]
  },
  {
   "cell_type": "code",
   "execution_count": 20,
   "metadata": {},
   "outputs": [],
   "source": [
    "# train-test-val split (80-10-10 approx.)\n",
    "# TRAIN SET\n",
    "df_train, df_test = train_test_split(df, test_size=0.2, shuffle=True, random_state=0, stratify=df['labels'])\n",
    "df_val, df_test = train_test_split(df_test, test_size=0.5, shuffle=True, random_state=0, stratify=df_test['labels'])"
   ]
  },
  {
   "cell_type": "code",
   "execution_count": 21,
   "metadata": {},
   "outputs": [
    {
     "name": "stdout",
     "output_type": "stream",
     "text": [
      "2    25.423729\n",
      "0    25.423729\n",
      "1    25.105932\n",
      "3    24.046610\n",
      "Name: labels, dtype: float64\n",
      "2    25.210084\n",
      "1    25.210084\n",
      "0    25.210084\n",
      "3    24.369748\n",
      "Name: labels, dtype: float64\n",
      "1    25.423729\n",
      "2    25.423729\n",
      "0    25.423729\n",
      "3    23.728814\n",
      "Name: labels, dtype: float64\n"
     ]
    }
   ],
   "source": [
    "# check distribution: approx equal\n",
    "print(df_train['labels'].value_counts(normalize=True)*100)\n",
    "print(df_test['labels'].value_counts(normalize=True)*100)\n",
    "print(df_val['labels'].value_counts(normalize=True)*100)\n"
   ]
  },
  {
   "cell_type": "code",
   "execution_count": 22,
   "metadata": {},
   "outputs": [],
   "source": [
    "# export to csv\n",
    "df.to_csv('emotions/EmpatheticPersonas/' + lang + '/emotionlabeled_full.csv', index=False)\n",
    "df_train.to_csv('emotions/EmpatheticPersonas/' + lang + '/emotionlabeled_train.csv', index=False)\n",
    "df_test.to_csv('emotions/EmpatheticPersonas/' + lang + '/emotionlabeled_test.csv', index=False)\n",
    "df_val.to_csv('emotions/EmpatheticPersonas/' + lang + '/emotionlabeled_val.csv', index=False)"
   ]
  },
  {
   "cell_type": "code",
   "execution_count": 24,
   "metadata": {},
   "outputs": [],
   "source": [
    "# translate-train-all dataset \n",
    "# ZH_train + EN_full\n",
    "zh_train = pd.read_csv('emotions/EmpatheticPersonas/ZH/emotionlabeled_train.csv', index_col=0)\n",
    "en_full = pd.read_csv('emotions/EmpatheticPersonas/EN/emotionlabeled_train.csv', index_col=0)\n",
    "\n",
    "train_all = pd.concat([zh_train, en_full])\n",
    "train_all = train_all.sample(frac=1) # shuffle the dataset\n",
    "\n",
    "train_all.to_csv('emotions/EmpatheticPersonas/EN-ZH/emotionlabeled_train.csv')"
   ]
  }
 ],
 "metadata": {
  "interpreter": {
   "hash": "6affe5b8c4f287722cc202c497c24ade3dd225e8a3881670ad8782202279ca81"
  },
  "kernelspec": {
   "display_name": "Python 3.7.2 ('satbot': venv)",
   "language": "python",
   "name": "python3"
  },
  "language_info": {
   "codemirror_mode": {
    "name": "ipython",
    "version": 3
   },
   "file_extension": ".py",
   "mimetype": "text/x-python",
   "name": "python",
   "nbconvert_exporter": "python",
   "pygments_lexer": "ipython3",
   "version": "3.7.2"
  },
  "orig_nbformat": 4
 },
 "nbformat": 4,
 "nbformat_minor": 2
}
